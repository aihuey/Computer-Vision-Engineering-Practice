{
 "cells": [
  {
   "cell_type": "markdown",
   "id": "7b2075d1-4ac6-4f71-824e-54176857c5c7",
   "metadata": {},
   "source": [
    "# 基于MindSpore框架的手写数字识别"
   ]
  },
  {
   "cell_type": "markdown",
   "id": "f6caf314-42be-45e1-a04b-71c63f1db083",
   "metadata": {},
   "source": [
    "## 构建LeNet5模型\n",
    "按照LeNet的网络结构，LeNet除去输入层共有7层，其中有2个卷积层，2个子采样层，3个全连接层。\n",
    "![LeNet5的网络结构图](assets/lenet.png)"
   ]
  },
  {
   "cell_type": "code",
   "execution_count": 1,
   "id": "36af4d76-79b0-463f-9926-db039a51ab16",
   "metadata": {},
   "outputs": [],
   "source": [
    "import mindspore.nn as nn\n",
    "from mindspore.common.initializer import TruncatedNormal"
   ]
  },
  {
   "cell_type": "code",
   "execution_count": 2,
   "id": "1d76d29b-b064-4b81-8911-18849f137a77",
   "metadata": {},
   "outputs": [],
   "source": [
    "def conv(in_channels, out_channels, kernel_size, stride=1, padding=0):\n",
    "    \"\"\"weight initial for conv layer\"\"\"\n",
    "    weight = weight_variable()\n",
    "    return nn.Conv2d(in_channels, out_channels,\n",
    "                     kernel_size=kernel_size, stride=stride, padding=padding,\n",
    "                     weight_init=weight, has_bias=False, pad_mode=\"valid\")\n",
    "\n",
    "\n",
    "def fc_with_initialize(input_channels, out_channels):\n",
    "    \"\"\"weight initial for fc layer\"\"\"\n",
    "    weight = weight_variable()\n",
    "    bias = weight_variable()\n",
    "    return nn.Dense(input_channels, out_channels, weight, bias)\n",
    "\n",
    "\n",
    "def weight_variable():\n",
    "    \"\"\"weight initial\"\"\"\n",
    "    return TruncatedNormal(0.02)"
   ]
  },
  {
   "cell_type": "code",
   "execution_count": 3,
   "id": "3c7efcdc-269f-4b39-b658-ac35fc38694d",
   "metadata": {},
   "outputs": [],
   "source": [
    "class LeNet5(nn.Cell):\n",
    "    \"\"\"\n",
    "    Lenet network\n",
    "\n",
    "    Args:\n",
    "        num_class (int): Num classes. Default: 10.\n",
    "\n",
    "    Returns:\n",
    "        Tensor, output tensor\n",
    "    Examples:\n",
    "        >>> LeNet(num_class=10)\n",
    "\n",
    "    \"\"\"\n",
    "    def __init__(self, num_class=10, channel=1):\n",
    "        super(LeNet5, self).__init__()\n",
    "        self.num_class = num_class\n",
    "        self.conv1 = conv(channel, 6, 5)\n",
    "        self.conv2 = conv(6, 16, 5)\n",
    "        self.fc1 = fc_with_initialize(16 * 5 * 5, 120)\n",
    "        self.fc2 = fc_with_initialize(120, 84)\n",
    "        self.fc3 = fc_with_initialize(84, self.num_class)\n",
    "        self.relu = nn.ReLU()\n",
    "        self.max_pool2d = nn.MaxPool2d(kernel_size=2, stride=2)\n",
    "        self.flatten = nn.Flatten()\n",
    "\n",
    "    def construct(self, x):\n",
    "        x = self.conv1(x)\n",
    "        x = self.relu(x)\n",
    "        x = self.max_pool2d(x)\n",
    "        x = self.conv2(x)\n",
    "        x = self.relu(x)\n",
    "        x = self.max_pool2d(x)\n",
    "        x = self.flatten(x)\n",
    "        x = self.fc1(x)\n",
    "        x = self.relu(x)\n",
    "        x = self.fc2(x)\n",
    "        x = self.relu(x)\n",
    "        x = self.fc3(x)\n",
    "        return x"
   ]
  },
  {
   "cell_type": "markdown",
   "id": "edb1f916-2932-49e1-91e1-2903b1fb5fff",
   "metadata": {},
   "source": [
    "# 设置全局种子\n",
    "全局种子可用于numpy.random, mindspore.common.Initializer以及mindspore.nn.probability.distribution。\n"
   ]
  },
  {
   "cell_type": "code",
   "execution_count": 5,
   "id": "e4fd9b49-829c-4a12-a786-70c3870bb4cf",
   "metadata": {},
   "outputs": [],
   "source": [
    "from mindspore import set_seed\n",
    "seed = 1024\n",
    "set_seed(seed)"
   ]
  },
  {
   "cell_type": "markdown",
   "id": "caacdff4-59db-45e6-afc4-bcb7014ce439",
   "metadata": {},
   "source": [
    "## 下载并处理数据集\n",
    "MNIST数据集是由10类28∗28的灰度图片组成，训练数据集包含60000张图片，测试数据集包含10000张图片。\n",
    "利用MindSpore Vision提供的的Mnist模块，将数据集下载、解压到指定位置并进行数据处理。"
   ]
  },
  {
   "cell_type": "code",
   "execution_count": 4,
   "id": "a9e0f639-1d96-487b-b629-06ee7260405b",
   "metadata": {},
   "outputs": [],
   "source": [
    "from mindvision.dataset import Mnist\n",
    "from mindspore.dataset.vision import Resize, HWC2CHW\n",
    "\n",
    "trans = [Resize([32, 32]),\n",
    "            HWC2CHW(),]\n",
    "\n",
    "# 下载并处理MNIST数据集\n",
    "download_train = Mnist(path=\"./mnist\", split=\"train\", batch_size=128, repeat_num=1, shuffle=True, transform=trans, download=True)\n",
    "download_eval = Mnist(path=\"./mnist\", split=\"test\", batch_size=128, transform=trans, download=True)\n",
    "\n",
    "dataset_train = download_train.run()\n",
    "dataset_eval = download_eval.run()\n"
   ]
  },
  {
   "cell_type": "markdown",
   "id": "a641906e-5212-4b05-953b-0fb540a14331",
   "metadata": {},
   "source": [
    "## 创建模型"
   ]
  },
  {
   "cell_type": "code",
   "execution_count": 6,
   "id": "7cf94c70-0c63-418a-a224-ff5fb37365ed",
   "metadata": {},
   "outputs": [
    {
     "name": "stdout",
     "output_type": "stream",
     "text": [
      "LeNet5<\n",
      "  (conv1): Conv2d<input_channels=1, output_channels=6, kernel_size=(5, 5), stride=(1, 1), pad_mode=valid, padding=0, dilation=(1, 1), group=1, has_bias=False, weight_init=<mindspore.common.initializer.TruncatedNormal object at 0x00000138F7A48E80>, bias_init=None, format=NCHW>\n",
      "  (conv2): Conv2d<input_channels=6, output_channels=16, kernel_size=(5, 5), stride=(1, 1), pad_mode=valid, padding=0, dilation=(1, 1), group=1, has_bias=False, weight_init=<mindspore.common.initializer.TruncatedNormal object at 0x00000138F7A488B0>, bias_init=None, format=NCHW>\n",
      "  (fc1): Dense<input_channels=400, output_channels=120, has_bias=True>\n",
      "  (fc2): Dense<input_channels=120, output_channels=84, has_bias=True>\n",
      "  (fc3): Dense<input_channels=84, output_channels=10, has_bias=True>\n",
      "  (relu): ReLU<>\n",
      "  (max_pool2d): MaxPool2d<kernel_size=2, stride=2, pad_mode=VALID>\n",
      "  (flatten): Flatten<>\n",
      "  >\n"
     ]
    }
   ],
   "source": [
    "network = LeNet5(num_class=10, channel=1)\n",
    "print(network)"
   ]
  },
  {
   "cell_type": "markdown",
   "id": "32b7dc21-0f11-49d8-8eeb-63a72eb35934",
   "metadata": {},
   "source": [
    "## 定义损失函数和优化器\n",
    "损失函数这里使用交叉熵损失函数SoftmaxCrossEntropyWithLogits, 优化器这里使用Momentum。"
   ]
  },
  {
   "cell_type": "code",
   "execution_count": 7,
   "id": "f1e93e91-d815-45a4-b54b-441c590bad80",
   "metadata": {},
   "outputs": [],
   "source": [
    "import mindspore.nn as nn\n",
    "# 定义损失函数\n",
    "net_loss = nn.SoftmaxCrossEntropyWithLogits(sparse=True, reduction='mean')\n",
    "\n",
    "# 定义优化器函数\n",
    "net_opt = nn.Momentum(network.trainable_params(), learning_rate=0.001, momentum=0.9)"
   ]
  },
  {
   "cell_type": "markdown",
   "id": "a9953896-83f3-4efd-bdbb-011dd294a04f",
   "metadata": {},
   "source": [
    "## 训练及保存模型\n",
    "在开始训练之前，MindSpore需要提前声明网络模型在训练过程中是否需要保存中间过程和结果，因此使用ModelCheckpoint接口用于保存网络模型和参数，以便进行后续的Fine-tuning（微调）操作。"
   ]
  },
  {
   "cell_type": "code",
   "execution_count": 8,
   "id": "190ea12b-9a8b-4dcf-9a15-20e991d3b8a9",
   "metadata": {},
   "outputs": [],
   "source": [
    "from mindspore.train.callback import ModelCheckpoint, CheckpointConfig\n",
    "\n",
    "# 设置模型保存参数，模型训练保存参数的step为1875\n",
    "config_ck = CheckpointConfig(save_checkpoint_steps=1875, keep_checkpoint_max=10)\n",
    "\n",
    "# 应用模型保存参数\n",
    "ckpoint = ModelCheckpoint(prefix=\"lenet\", directory=\"./lenet_mindspore\", config=config_ck)"
   ]
  },
  {
   "cell_type": "markdown",
   "id": "c2ad3b65-599e-421f-8b84-8f3946bf5377",
   "metadata": {},
   "source": [
    "通过MindSpore提供的model.train接口可以方便地进行网络的训练，LossMonitor可以监控训练过程中loss值的变化。"
   ]
  },
  {
   "cell_type": "code",
   "execution_count": 9,
   "id": "941f7d5c-24e7-4757-9811-85d1b3f0c979",
   "metadata": {},
   "outputs": [
    {
     "name": "stdout",
     "output_type": "stream",
     "text": [
      "Epoch time: 8610.672 ms, per step time: 18.399 ms, avg loss: 0.677\n",
      "Epoch time: 8240.770 ms, per step time: 17.608 ms, avg loss: 0.106\n",
      "Epoch time: 8451.041 ms, per step time: 18.058 ms, avg loss: 0.078\n",
      "Epoch time: 8658.026 ms, per step time: 18.500 ms, avg loss: 0.063\n",
      "Epoch:[  4/ 40], step:[    3/  468], loss:[0.038/0.035], time:22.752 ms, lr:0.01000\n",
      "Epoch time: 8463.565 ms, per step time: 18.085 ms, avg loss: 0.052\n",
      "Epoch time: 8338.240 ms, per step time: 17.817 ms, avg loss: 0.046\n",
      "Epoch time: 8370.767 ms, per step time: 17.886 ms, avg loss: 0.040\n",
      "Epoch time: 8368.011 ms, per step time: 17.880 ms, avg loss: 0.034\n",
      "Epoch:[  8/ 40], step:[    6/  468], loss:[0.036/0.033], time:22.672 ms, lr:0.01000\n",
      "Epoch time: 8571.460 ms, per step time: 18.315 ms, avg loss: 0.031\n",
      "Epoch time: 8334.793 ms, per step time: 17.809 ms, avg loss: 0.028\n",
      "Epoch time: 8330.647 ms, per step time: 17.801 ms, avg loss: 0.026\n",
      "Epoch time: 8322.648 ms, per step time: 17.783 ms, avg loss: 0.024\n",
      "Epoch:[ 12/ 40], step:[    9/  468], loss:[0.003/0.025], time:23.645 ms, lr:0.01000\n",
      "Epoch time: 8444.220 ms, per step time: 18.043 ms, avg loss: 0.020\n",
      "Epoch time: 8366.556 ms, per step time: 17.877 ms, avg loss: 0.018\n",
      "Epoch time: 8563.994 ms, per step time: 18.299 ms, avg loss: 0.017\n",
      "Epoch time: 8455.574 ms, per step time: 18.067 ms, avg loss: 0.014\n",
      "Epoch:[ 16/ 40], step:[   12/  468], loss:[0.001/0.015], time:23.250 ms, lr:0.01000\n",
      "Epoch time: 8454.571 ms, per step time: 18.065 ms, avg loss: 0.014\n",
      "Epoch time: 8466.993 ms, per step time: 18.092 ms, avg loss: 0.012\n",
      "Epoch time: 8343.429 ms, per step time: 17.828 ms, avg loss: 0.012\n",
      "Epoch time: 8344.274 ms, per step time: 17.830 ms, avg loss: 0.010\n",
      "Epoch:[ 20/ 40], step:[   15/  468], loss:[0.001/0.016], time:21.609 ms, lr:0.01000\n",
      "Epoch time: 8356.103 ms, per step time: 17.855 ms, avg loss: 0.009\n",
      "Epoch time: 8488.676 ms, per step time: 18.138 ms, avg loss: 0.007\n",
      "Epoch time: 8437.065 ms, per step time: 18.028 ms, avg loss: 0.006\n",
      "Epoch time: 8619.539 ms, per step time: 18.418 ms, avg loss: 0.008\n",
      "Epoch:[ 24/ 40], step:[   18/  468], loss:[0.001/0.002], time:24.188 ms, lr:0.01000\n",
      "Epoch time: 8382.848 ms, per step time: 17.912 ms, avg loss: 0.007\n",
      "Epoch time: 8509.845 ms, per step time: 18.183 ms, avg loss: 0.004\n",
      "Epoch time: 8509.862 ms, per step time: 18.183 ms, avg loss: 0.006\n",
      "Epoch time: 8386.195 ms, per step time: 17.919 ms, avg loss: 0.004\n",
      "Epoch:[ 28/ 40], step:[   21/  468], loss:[0.001/0.001], time:22.334 ms, lr:0.01000\n",
      "Epoch time: 8389.467 ms, per step time: 17.926 ms, avg loss: 0.003\n",
      "Epoch time: 8254.819 ms, per step time: 17.639 ms, avg loss: 0.002\n",
      "Epoch time: 8258.570 ms, per step time: 17.647 ms, avg loss: 0.002\n",
      "Epoch time: 8259.894 ms, per step time: 17.649 ms, avg loss: 0.002\n",
      "Epoch:[ 32/ 40], step:[   24/  468], loss:[0.001/0.002], time:23.218 ms, lr:0.01000\n",
      "Epoch time: 8287.625 ms, per step time: 17.709 ms, avg loss: 0.001\n",
      "Epoch time: 8323.467 ms, per step time: 17.785 ms, avg loss: 0.001\n",
      "Epoch time: 8268.980 ms, per step time: 17.669 ms, avg loss: 0.001\n",
      "Epoch time: 8369.290 ms, per step time: 17.883 ms, avg loss: 0.001\n",
      "Epoch:[ 36/ 40], step:[   27/  468], loss:[0.000/0.001], time:23.566 ms, lr:0.01000\n",
      "Epoch time: 8274.371 ms, per step time: 17.680 ms, avg loss: 0.001\n",
      "Epoch time: 8278.786 ms, per step time: 17.690 ms, avg loss: 0.000\n",
      "Epoch time: 8249.646 ms, per step time: 17.627 ms, avg loss: 0.000\n",
      "Epoch time: 8203.084 ms, per step time: 17.528 ms, avg loss: 0.000\n"
     ]
    }
   ],
   "source": [
    "from mindvision.engine.callback import LossMonitor\n",
    "from mindspore.train import Model\n",
    "\n",
    "# 初始化模型参数\n",
    "model = Model(network, loss_fn=net_loss, optimizer=net_opt, metrics={'accuracy'})\n",
    "\n",
    "# 训练网络模型，并保存为lenet-1_1875.ckpt文件\n",
    "model.train(40, dataset_train, callbacks=[ckpoint, LossMonitor(0.01, 1875)])"
   ]
  },
  {
   "cell_type": "markdown",
   "id": "58187e11-48b5-4c55-8e34-2b12a2a5ebe4",
   "metadata": {},
   "source": [
    "通过模型运行测试数据集得到的结果，验证模型的泛化能力：\n",
    "使用model.eval接口读入测试数据集。\n",
    "使用保存后的模型参数进行推理。"
   ]
  },
  {
   "cell_type": "code",
   "execution_count": 10,
   "id": "86ba3a62-a228-4a22-8833-0a1bb94298d8",
   "metadata": {},
   "outputs": [
    {
     "name": "stdout",
     "output_type": "stream",
     "text": [
      "{'accuracy': 0.9910857371794872}\n"
     ]
    }
   ],
   "source": [
    "acc = model.eval(dataset_eval)\n",
    "print(\"{}\".format(acc))"
   ]
  },
  {
   "cell_type": "markdown",
   "id": "e689e750-e1d9-4b70-8a6f-411193210a72",
   "metadata": {},
   "source": [
    "## 实例验证\n",
    "生成的模型进行单个图片数据的分类预测。"
   ]
  },
  {
   "cell_type": "code",
   "execution_count": 12,
   "id": "14e91d2d-2204-4e4a-8827-2cbf734b02df",
   "metadata": {},
   "outputs": [
    {
     "data": {
      "image/png": "[encoded data removed]",
      "text/plain": [
       "<Figure size 640x480 with 6 Axes>"
      ]
     },
     "metadata": {},
     "output_type": "display_data"
    },
    {
     "name": "stdout",
     "output_type": "stream",
     "text": [
      "Predicted: \"[7 5 5 7 3 7]\", Actual: \"[7 5 5 7 3 7]\"\n"
     ]
    }
   ],
   "source": [
    "import numpy as np\n",
    "from mindspore import Tensor\n",
    "import matplotlib.pyplot as plt\n",
    "from mindspore.dataset.vision import Resize, HWC2CHW\n",
    "\n",
    "trans = [Resize([32, 32]),\n",
    "            HWC2CHW(),]\n",
    "mnist = Mnist(\"./mnist\", split=\"train\", batch_size=6, transform=trans)\n",
    "dataset_infer = mnist.run()\n",
    "ds_test = dataset_infer.create_dict_iterator()\n",
    "data = next(ds_test)\n",
    "images = data[\"image\"].asnumpy()\n",
    "labels = data[\"label\"].asnumpy()\n",
    "\n",
    "plt.figure()\n",
    "for i in range(1, 7):\n",
    "    plt.subplot(2, 3, i)\n",
    "    plt.imshow(images[i-1][0], interpolation=\"None\", cmap=\"gray\")\n",
    "plt.show()\n",
    "\n",
    "# 使用函数model.predict预测image对应分类\n",
    "output = model.predict(Tensor(data['image']))\n",
    "predicted = np.argmax(output.asnumpy(), axis=1)\n",
    "\n",
    "# 输出预测分类与实际分类\n",
    "print(f'Predicted: \"{predicted}\", Actual: \"{labels}\"')"
   ]
  },
  {
   "cell_type": "markdown",
   "id": "9c1e1473-897e-492c-ab74-e30a1aa54fb3",
   "metadata": {},
   "source": [
    "从上面的打印结果可以看出，预测值与目标值完全一致。"
   ]
  },
  {
   "cell_type": "code",
   "execution_count": null,
   "id": "691d7ad0-8fbc-4896-9683-64b3f72b3aae",
   "metadata": {},
   "outputs": [],
   "source": []
  }
 ],
 "metadata": {
  "kernelspec": {
   "display_name": "Python 3 (ipykernel)",
   "language": "python",
   "name": "python3"
  },
  "language_info": {
   "codemirror_mode": {
    "name": "ipython",
    "version": 3
   },
   "file_extension": ".py",
   "mimetype": "text/x-python",
   "name": "python",
   "nbconvert_exporter": "python",
   "pygments_lexer": "ipython3",
   "version": "3.8.19"
  }
 },
 "nbformat": 4,
 "nbformat_minor": 5
}
