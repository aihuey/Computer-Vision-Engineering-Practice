{
 "cells": [
  {
   "cell_type": "markdown",
   "id": "2a6ccccd-2341-4180-9246-bd09ab820c33",
   "metadata": {},
   "source": [
    "# 基于PyTorch框架的手写数字识别"
   ]
  },
  {
   "cell_type": "markdown",
   "id": "3f6f4c38-9b7c-4d01-935d-fc9ba5e0f97f",
   "metadata": {},
   "source": [
    "## 构建LeNet5模型\n",
    "按照LeNet的网络结构，LeNet除去输入层共有7层，其中有2个卷积层，2个子采样层，3个全连接层。\n",
    "![LeNet5的网络结构图](assets/lenet.png)"
   ]
  },
  {
   "cell_type": "code",
   "execution_count": 1,
   "id": "abbb97f4-d447-489b-accd-a071452c67e0",
   "metadata": {},
   "outputs": [],
   "source": [
    "import torch\n",
    "import torch.nn as nn\n",
    "import torch.nn.functional as F"
   ]
  },
  {
   "cell_type": "code",
   "execution_count": 2,
   "id": "52d5a9f8-a0ae-42a6-8f41-301286825f6e",
   "metadata": {},
   "outputs": [],
   "source": [
    "class LeNet5(nn.Module):\n",
    "    def __init__(self, num_classes=10, in_channels=1):\n",
    "        super(LeNet5, self).__init__()\n",
    "        self.num_classes = num_classes\n",
    "        self.in_channels = in_channels\n",
    "        self.conv1 = nn.Conv2d(self.in_channels, 6, 5)\n",
    "        self.pool1 = nn.MaxPool2d(2, 2)\n",
    "        self.conv2 = nn.Conv2d(6, 16, 5)\n",
    "        self.pool2 = nn.MaxPool2d(2, 2)\n",
    "        self.fc1 = nn.Linear(16 * 5 * 5, 120)\n",
    "        self.fc2 = nn.Linear(120, 84)\n",
    "        self.fc3 = nn.Linear(84, self.num_classes)\n",
    "\n",
    "    def forward(self, x):\n",
    "        x = self.pool1(F.relu(self.conv1(x)))\n",
    "        x = self.pool2(F.relu(self.conv2(x)))\n",
    "        x = x.view(x.size(0), -1, )\n",
    "        x = F.relu(self.fc1(x))\n",
    "        x = F.relu(self.fc2(x))\n",
    "        x = self.fc3(x)\n",
    "        return x"
   ]
  },
  {
   "cell_type": "markdown",
   "id": "1aad6837-94f1-42a8-92d4-923f0ef9494a",
   "metadata": {},
   "source": [
    "## 设置全局种子"
   ]
  },
  {
   "cell_type": "code",
   "execution_count": 4,
   "id": "112a72e4-2938-4044-a3ad-641989f542b0",
   "metadata": {},
   "outputs": [],
   "source": [
    "import numpy as np\n",
    "import random\n",
    "\n",
    "seed = 777\n",
    "\n",
    "def seed_everything(seed):\n",
    "    if seed >= 10000:\n",
    "        raise ValueError(\"seed number should be less than 10000\")\n",
    "    if torch.distributed.is_initialized():\n",
    "        rank = torch.distributed.get_rank()\n",
    "    else:\n",
    "        rank = 0\n",
    "    seed = (rank * 100000) + seed\n",
    "\n",
    "    torch.manual_seed(seed)\n",
    "    np.random.seed(seed)\n",
    "    random.seed(seed)\n",
    "\n",
    "seed_everything(seed)"
   ]
  },
  {
   "cell_type": "markdown",
   "id": "9f1b0d86-d07d-4bea-a3e1-28ec3cc62449",
   "metadata": {},
   "source": [
    "## 设置超参数"
   ]
  },
  {
   "cell_type": "code",
   "execution_count": 3,
   "id": "4de111a4-b62a-4a57-8f23-7a3bdbb88ffa",
   "metadata": {},
   "outputs": [],
   "source": [
    "epochs = 30\n",
    "learning_rate = 0.01\n",
    "batch_size = 256\n",
    "device = torch.device(\"cuda:0\" if torch.cuda.is_available() else \"cpu\")"
   ]
  },
  {
   "cell_type": "markdown",
   "id": "aecfeff1-c45c-4716-b7a5-5b50a2a0f918",
   "metadata": {},
   "source": [
    "## 下载并处理数据集\n",
    "MNIST数据集是由10类28∗28的灰度图片组成，训练数据集包含60000张图片，测试数据集包含10000张图片。\n",
    "利用MindSpore Vision提供的的Mnist模块，将数据集下载、解压到指定位置并进行数据处理。"
   ]
  },
  {
   "cell_type": "code",
   "execution_count": 5,
   "id": "4befcaa1-75f3-4e60-9522-cfefabecf086",
   "metadata": {},
   "outputs": [
    {
     "name": "stdout",
     "output_type": "stream",
     "text": [
      "训练数据集大小： 60000\n",
      "测试数据集大小： 10000\n"
     ]
    }
   ],
   "source": [
    "import torch\n",
    "import torchvision\n",
    "import torchvision.transforms as transforms\n",
    "from torch.utils.data import DataLoader\n",
    "\n",
    "transform_train = transforms.Compose([transforms.Resize((32, 32)),\n",
    "                                          transforms.ToTensor(), ])\n",
    "transform_test = transforms.Compose([transforms.Resize((32, 32)),\n",
    "                                         transforms.ToTensor(), ])\n",
    "# 训练数据集\n",
    "train_dataset = torchvision.datasets.MNIST(root='./data', train=True, transform=transform_train, download=True)\n",
    "train_loader = DataLoader(train_dataset, batch_size=batch_size, shuffle=True)\n",
    "\n",
    "# 测试数据集\n",
    "test_dataset = torchvision.datasets.MNIST(root='./data', train=False, transform=transform_test, download=True)\n",
    "test_loader = DataLoader(test_dataset, batch_size=batch_size, shuffle=False)\n",
    "\n",
    "print(\"训练数据集大小：\", len(train_dataset))\n",
    "print(\"测试数据集大小：\", len(test_dataset))"
   ]
  },
  {
   "cell_type": "markdown",
   "id": "e989868d-28b5-4de5-a8b8-e1d2afa501a6",
   "metadata": {},
   "source": [
    "## 创建模型"
   ]
  },
  {
   "cell_type": "code",
   "execution_count": 6,
   "id": "d0996724-196f-4267-abf0-8cd2f25aa11b",
   "metadata": {},
   "outputs": [
    {
     "name": "stdout",
     "output_type": "stream",
     "text": [
      "LeNet5(\n",
      "  (conv1): Conv2d(1, 6, kernel_size=(5, 5), stride=(1, 1))\n",
      "  (pool1): MaxPool2d(kernel_size=2, stride=2, padding=0, dilation=1, ceil_mode=False)\n",
      "  (conv2): Conv2d(6, 16, kernel_size=(5, 5), stride=(1, 1))\n",
      "  (pool2): MaxPool2d(kernel_size=2, stride=2, padding=0, dilation=1, ceil_mode=False)\n",
      "  (fc1): Linear(in_features=400, out_features=120, bias=True)\n",
      "  (fc2): Linear(in_features=120, out_features=84, bias=True)\n",
      "  (fc3): Linear(in_features=84, out_features=10, bias=True)\n",
      ")\n"
     ]
    }
   ],
   "source": [
    "net = LeNet5()\n",
    "print(net)"
   ]
  },
  {
   "cell_type": "markdown",
   "id": "da1cd143-5b3c-4bef-8b99-72e369e88358",
   "metadata": {},
   "source": [
    "## 定义损失函数和优化器\n",
    "损失函数这里使用交叉熵损失函数CrossEntropy, 优化器这里使用SGD。"
   ]
  },
  {
   "cell_type": "code",
   "execution_count": 7,
   "id": "9b1813f8-19d8-4b3d-9ac5-de45ebba0708",
   "metadata": {},
   "outputs": [],
   "source": [
    "criterion = torch.nn.CrossEntropyLoss()\n",
    "optimizer = torch.optim.SGD(net.parameters(), lr=learning_rate, momentum=0.9)"
   ]
  },
  {
   "cell_type": "markdown",
   "id": "fddb6c0b-6225-4bae-ad03-cd9d4648abc7",
   "metadata": {},
   "source": [
    "## 动态学习率\n",
    "定义学习率调度器，每10个epoch降低学习率到原来的0.1倍  "
   ]
  },
  {
   "cell_type": "code",
   "execution_count": 8,
   "id": "6bd68ea8-c436-49c0-83aa-7c3b0e3aee3a",
   "metadata": {},
   "outputs": [],
   "source": [
    "from torch.optim.lr_scheduler import StepLR \n",
    "\n",
    "scheduler = StepLR(optimizer, step_size=10, gamma=0.1) "
   ]
  },
  {
   "cell_type": "markdown",
   "id": "a39797dd-3bb5-4196-801f-db3e99dafd77",
   "metadata": {},
   "source": [
    "## 训练及保存模型\n",
    "训练过程中保存训练损失和正确率信息，以便后面进行分析。"
   ]
  },
  {
   "cell_type": "code",
   "execution_count": 9,
   "id": "cd081e12-e437-4a0e-aaa7-ed9846263626",
   "metadata": {},
   "outputs": [
    {
     "name": "stderr",
     "output_type": "stream",
     "text": [
      "train: 100%|█████████████████████████████████████████████████████████████████████████| 235/235 [00:06<00:00, 38.97it/s]\n"
     ]
    },
    {
     "name": "stdout",
     "output_type": "stream",
     "text": [
      "Epoch 1/30, Train Loss: 1.116, Train Acc: 0.651, Learning rate: 0.01000\n"
     ]
    },
    {
     "name": "stderr",
     "output_type": "stream",
     "text": [
      "train: 100%|█████████████████████████████████████████████████████████████████████████| 235/235 [00:10<00:00, 22.38it/s]\n"
     ]
    },
    {
     "name": "stdout",
     "output_type": "stream",
     "text": [
      "Epoch 2/30, Train Loss: 0.169, Train Acc: 0.948, Learning rate: 0.01000\n"
     ]
    },
    {
     "name": "stderr",
     "output_type": "stream",
     "text": [
      "train: 100%|█████████████████████████████████████████████████████████████████████████| 235/235 [00:10<00:00, 21.52it/s]\n"
     ]
    },
    {
     "name": "stdout",
     "output_type": "stream",
     "text": [
      "Epoch 3/30, Train Loss: 0.105, Train Acc: 0.967, Learning rate: 0.01000\n"
     ]
    },
    {
     "name": "stderr",
     "output_type": "stream",
     "text": [
      "train: 100%|█████████████████████████████████████████████████████████████████████████| 235/235 [00:10<00:00, 23.42it/s]\n"
     ]
    },
    {
     "name": "stdout",
     "output_type": "stream",
     "text": [
      "Epoch 4/30, Train Loss: 0.077, Train Acc: 0.976, Learning rate: 0.01000\n"
     ]
    },
    {
     "name": "stderr",
     "output_type": "stream",
     "text": [
      "train: 100%|█████████████████████████████████████████████████████████████████████████| 235/235 [00:09<00:00, 25.67it/s]\n"
     ]
    },
    {
     "name": "stdout",
     "output_type": "stream",
     "text": [
      "Epoch 5/30, Train Loss: 0.068, Train Acc: 0.978, Learning rate: 0.01000\n"
     ]
    },
    {
     "name": "stderr",
     "output_type": "stream",
     "text": [
      "train: 100%|█████████████████████████████████████████████████████████████████████████| 235/235 [00:09<00:00, 25.20it/s]\n"
     ]
    },
    {
     "name": "stdout",
     "output_type": "stream",
     "text": [
      "Epoch 6/30, Train Loss: 0.058, Train Acc: 0.982, Learning rate: 0.01000\n"
     ]
    },
    {
     "name": "stderr",
     "output_type": "stream",
     "text": [
      "train: 100%|█████████████████████████████████████████████████████████████████████████| 235/235 [00:08<00:00, 26.28it/s]\n"
     ]
    },
    {
     "name": "stdout",
     "output_type": "stream",
     "text": [
      "Epoch 7/30, Train Loss: 0.050, Train Acc: 0.984, Learning rate: 0.01000\n"
     ]
    },
    {
     "name": "stderr",
     "output_type": "stream",
     "text": [
      "train: 100%|█████████████████████████████████████████████████████████████████████████| 235/235 [00:09<00:00, 25.70it/s]\n"
     ]
    },
    {
     "name": "stdout",
     "output_type": "stream",
     "text": [
      "Epoch 8/30, Train Loss: 0.046, Train Acc: 0.985, Learning rate: 0.01000\n"
     ]
    },
    {
     "name": "stderr",
     "output_type": "stream",
     "text": [
      "train: 100%|█████████████████████████████████████████████████████████████████████████| 235/235 [00:09<00:00, 25.76it/s]\n"
     ]
    },
    {
     "name": "stdout",
     "output_type": "stream",
     "text": [
      "Epoch 9/30, Train Loss: 0.041, Train Acc: 0.988, Learning rate: 0.01000\n"
     ]
    },
    {
     "name": "stderr",
     "output_type": "stream",
     "text": [
      "train: 100%|█████████████████████████████████████████████████████████████████████████| 235/235 [00:09<00:00, 24.82it/s]\n"
     ]
    },
    {
     "name": "stdout",
     "output_type": "stream",
     "text": [
      "Epoch 10/30, Train Loss: 0.037, Train Acc: 0.988, Learning rate: 0.00100\n"
     ]
    },
    {
     "name": "stderr",
     "output_type": "stream",
     "text": [
      "train: 100%|█████████████████████████████████████████████████████████████████████████| 235/235 [00:09<00:00, 24.68it/s]\n"
     ]
    },
    {
     "name": "stdout",
     "output_type": "stream",
     "text": [
      "Epoch 11/30, Train Loss: 0.027, Train Acc: 0.992, Learning rate: 0.00100\n"
     ]
    },
    {
     "name": "stderr",
     "output_type": "stream",
     "text": [
      "train: 100%|█████████████████████████████████████████████████████████████████████████| 235/235 [00:09<00:00, 25.72it/s]\n"
     ]
    },
    {
     "name": "stdout",
     "output_type": "stream",
     "text": [
      "Epoch 12/30, Train Loss: 0.025, Train Acc: 0.993, Learning rate: 0.00100\n"
     ]
    },
    {
     "name": "stderr",
     "output_type": "stream",
     "text": [
      "train: 100%|█████████████████████████████████████████████████████████████████████████| 235/235 [00:09<00:00, 25.28it/s]\n"
     ]
    },
    {
     "name": "stdout",
     "output_type": "stream",
     "text": [
      "Epoch 13/30, Train Loss: 0.024, Train Acc: 0.993, Learning rate: 0.00100\n"
     ]
    },
    {
     "name": "stderr",
     "output_type": "stream",
     "text": [
      "train: 100%|█████████████████████████████████████████████████████████████████████████| 235/235 [00:09<00:00, 25.82it/s]\n"
     ]
    },
    {
     "name": "stdout",
     "output_type": "stream",
     "text": [
      "Epoch 14/30, Train Loss: 0.024, Train Acc: 0.993, Learning rate: 0.00100\n"
     ]
    },
    {
     "name": "stderr",
     "output_type": "stream",
     "text": [
      "train: 100%|█████████████████████████████████████████████████████████████████████████| 235/235 [00:09<00:00, 25.91it/s]\n"
     ]
    },
    {
     "name": "stdout",
     "output_type": "stream",
     "text": [
      "Epoch 15/30, Train Loss: 0.023, Train Acc: 0.993, Learning rate: 0.00100\n"
     ]
    },
    {
     "name": "stderr",
     "output_type": "stream",
     "text": [
      "train: 100%|█████████████████████████████████████████████████████████████████████████| 235/235 [00:09<00:00, 24.17it/s]\n"
     ]
    },
    {
     "name": "stdout",
     "output_type": "stream",
     "text": [
      "Epoch 16/30, Train Loss: 0.023, Train Acc: 0.993, Learning rate: 0.00100\n"
     ]
    },
    {
     "name": "stderr",
     "output_type": "stream",
     "text": [
      "train: 100%|█████████████████████████████████████████████████████████████████████████| 235/235 [00:09<00:00, 24.40it/s]\n"
     ]
    },
    {
     "name": "stdout",
     "output_type": "stream",
     "text": [
      "Epoch 17/30, Train Loss: 0.022, Train Acc: 0.993, Learning rate: 0.00100\n"
     ]
    },
    {
     "name": "stderr",
     "output_type": "stream",
     "text": [
      "train: 100%|█████████████████████████████████████████████████████████████████████████| 235/235 [00:09<00:00, 23.78it/s]\n"
     ]
    },
    {
     "name": "stdout",
     "output_type": "stream",
     "text": [
      "Epoch 18/30, Train Loss: 0.022, Train Acc: 0.993, Learning rate: 0.00100\n"
     ]
    },
    {
     "name": "stderr",
     "output_type": "stream",
     "text": [
      "train: 100%|█████████████████████████████████████████████████████████████████████████| 235/235 [00:09<00:00, 23.80it/s]\n"
     ]
    },
    {
     "name": "stdout",
     "output_type": "stream",
     "text": [
      "Epoch 19/30, Train Loss: 0.022, Train Acc: 0.993, Learning rate: 0.00100\n"
     ]
    },
    {
     "name": "stderr",
     "output_type": "stream",
     "text": [
      "train: 100%|█████████████████████████████████████████████████████████████████████████| 235/235 [00:09<00:00, 24.24it/s]\n"
     ]
    },
    {
     "name": "stdout",
     "output_type": "stream",
     "text": [
      "Epoch 20/30, Train Loss: 0.021, Train Acc: 0.994, Learning rate: 0.00010\n"
     ]
    },
    {
     "name": "stderr",
     "output_type": "stream",
     "text": [
      "train: 100%|█████████████████████████████████████████████████████████████████████████| 235/235 [00:09<00:00, 24.38it/s]\n"
     ]
    },
    {
     "name": "stdout",
     "output_type": "stream",
     "text": [
      "Epoch 21/30, Train Loss: 0.020, Train Acc: 0.994, Learning rate: 0.00010\n"
     ]
    },
    {
     "name": "stderr",
     "output_type": "stream",
     "text": [
      "train: 100%|█████████████████████████████████████████████████████████████████████████| 235/235 [00:09<00:00, 24.45it/s]\n"
     ]
    },
    {
     "name": "stdout",
     "output_type": "stream",
     "text": [
      "Epoch 22/30, Train Loss: 0.020, Train Acc: 0.994, Learning rate: 0.00010\n"
     ]
    },
    {
     "name": "stderr",
     "output_type": "stream",
     "text": [
      "train: 100%|█████████████████████████████████████████████████████████████████████████| 235/235 [00:09<00:00, 24.65it/s]\n"
     ]
    },
    {
     "name": "stdout",
     "output_type": "stream",
     "text": [
      "Epoch 23/30, Train Loss: 0.020, Train Acc: 0.994, Learning rate: 0.00010\n"
     ]
    },
    {
     "name": "stderr",
     "output_type": "stream",
     "text": [
      "train: 100%|█████████████████████████████████████████████████████████████████████████| 235/235 [00:09<00:00, 24.26it/s]\n"
     ]
    },
    {
     "name": "stdout",
     "output_type": "stream",
     "text": [
      "Epoch 24/30, Train Loss: 0.020, Train Acc: 0.994, Learning rate: 0.00010\n"
     ]
    },
    {
     "name": "stderr",
     "output_type": "stream",
     "text": [
      "train: 100%|█████████████████████████████████████████████████████████████████████████| 235/235 [00:10<00:00, 21.92it/s]\n"
     ]
    },
    {
     "name": "stdout",
     "output_type": "stream",
     "text": [
      "Epoch 25/30, Train Loss: 0.020, Train Acc: 0.994, Learning rate: 0.00010\n"
     ]
    },
    {
     "name": "stderr",
     "output_type": "stream",
     "text": [
      "train: 100%|█████████████████████████████████████████████████████████████████████████| 235/235 [00:11<00:00, 20.91it/s]\n"
     ]
    },
    {
     "name": "stdout",
     "output_type": "stream",
     "text": [
      "Epoch 26/30, Train Loss: 0.020, Train Acc: 0.994, Learning rate: 0.00010\n"
     ]
    },
    {
     "name": "stderr",
     "output_type": "stream",
     "text": [
      "train: 100%|█████████████████████████████████████████████████████████████████████████| 235/235 [00:10<00:00, 22.46it/s]\n"
     ]
    },
    {
     "name": "stdout",
     "output_type": "stream",
     "text": [
      "Epoch 27/30, Train Loss: 0.020, Train Acc: 0.994, Learning rate: 0.00010\n"
     ]
    },
    {
     "name": "stderr",
     "output_type": "stream",
     "text": [
      "train: 100%|█████████████████████████████████████████████████████████████████████████| 235/235 [00:11<00:00, 20.22it/s]\n"
     ]
    },
    {
     "name": "stdout",
     "output_type": "stream",
     "text": [
      "Epoch 28/30, Train Loss: 0.020, Train Acc: 0.994, Learning rate: 0.00010\n"
     ]
    },
    {
     "name": "stderr",
     "output_type": "stream",
     "text": [
      "train: 100%|█████████████████████████████████████████████████████████████████████████| 235/235 [00:09<00:00, 25.03it/s]\n"
     ]
    },
    {
     "name": "stdout",
     "output_type": "stream",
     "text": [
      "Epoch 29/30, Train Loss: 0.020, Train Acc: 0.994, Learning rate: 0.00010\n"
     ]
    },
    {
     "name": "stderr",
     "output_type": "stream",
     "text": [
      "train: 100%|█████████████████████████████████████████████████████████████████████████| 235/235 [00:09<00:00, 23.79it/s]"
     ]
    },
    {
     "name": "stdout",
     "output_type": "stream",
     "text": [
      "Epoch 30/30, Train Loss: 0.020, Train Acc: 0.994, Learning rate: 0.00001\n"
     ]
    },
    {
     "name": "stderr",
     "output_type": "stream",
     "text": [
      "\n"
     ]
    }
   ],
   "source": [
    "from tqdm import tqdm\n",
    "\n",
    "def train(model, epochs, optimizer, criterion, device, train_loader, lr_scheduler):\n",
    "    train_losses = []\n",
    "    train_acc = []\n",
    "    model = model.to(device)\n",
    "    model.train()\n",
    "    for i in range(epochs):\n",
    "        running_loss = 0.0\n",
    "        running_correct = 0\n",
    "        total = 0\n",
    "        for batch_idx, (images, targets) in enumerate(tqdm(train_loader, 'train')):\n",
    "            images, targets = images.to(device), targets.to(device)\n",
    "\n",
    "            optimizer.zero_grad()\n",
    "            output = model(images)\n",
    "            loss = criterion(output, targets)\n",
    "            loss.backward()\n",
    "            optimizer.step()\n",
    "\n",
    "            running_loss += loss.item()\n",
    "            pred = torch.argmax(output, dim=1)\n",
    "\n",
    "            running_correct += (pred == targets).sum().item()\n",
    "            total += targets.size(0)\n",
    "\n",
    "        lr_scheduler.step()\n",
    "\n",
    "        train_losses.append(running_loss / len(train_loader))\n",
    "        train_acc.append(running_correct / total)\n",
    "\n",
    "        torch.save(model.state_dict(), './lenet_pytorch/LeNet5_epoch_{:03}.pth'.format(i))\n",
    "\n",
    "        print(f\"Epoch {i+1}/{epochs}, Train Loss: {train_losses[-1]:.3f}, Train Acc: {train_acc[-1]:.3f}, Learning rate: {optimizer.state_dict()['param_groups'][0]['lr']:.5f}\")\n",
    "\n",
    "    return train_losses, train_acc\n",
    "\n",
    "import os  \n",
    "if not os.path.exists('letnet_pytorch'):   \n",
    "    os.makedirs('letnet_pytorch')\n",
    "\n",
    "train_losses, train_acc = train(net, epochs, optimizer, criterion, device, train_loader, scheduler)"
   ]
  },
  {
   "cell_type": "markdown",
   "id": "350701ea-0931-4153-9cf4-69b5a391560e",
   "metadata": {},
   "source": [
    "## 绘制训练损失曲线和正确曲线"
   ]
  },
  {
   "cell_type": "code",
   "execution_count": 10,
   "id": "3d23e6f8-417d-4b5d-889a-a4a7ea07b2f7",
   "metadata": {},
   "outputs": [
    {
     "data": {
      "image/png": "[encoded data removed]",
      "text/plain": [
       "<Figure size 1500x500 with 2 Axes>"
      ]
     },
     "metadata": {},
     "output_type": "display_data"
    }
   ],
   "source": [
    "import matplotlib.pyplot as plt\n",
    "\n",
    "def plot_graphs(train_losses, train_acc):\n",
    "    plt.figure(figsize=(15, 5))\n",
    "    plt.subplot(1, 2, 1)\n",
    "    plt.plot(train_losses, label=\"Train Loss\")\n",
    "    plt.legend()\n",
    "    plt.subplot(1, 2, 2)\n",
    "    plt.plot(train_acc, label=\"Train Accuracy\")\n",
    "    plt.legend()\n",
    "    plt.show()\n",
    "\n",
    "plot_graphs(train_losses, train_acc)"
   ]
  },
  {
   "cell_type": "markdown",
   "id": "004e4fcd-9928-4fc9-878d-11ea022b2813",
   "metadata": {},
   "source": [
    "## 在测试集上测试模型\n",
    "通过模型运行测试数据集得到的结果，验证模型的泛化能力"
   ]
  },
  {
   "cell_type": "code",
   "execution_count": 11,
   "id": "b0e36660-15f0-40f8-bb78-d6408b12d549",
   "metadata": {},
   "outputs": [
    {
     "name": "stderr",
     "output_type": "stream",
     "text": [
      "test: 100%|████████████████████████████████████████████████████████████████████████████| 40/40 [00:01<00:00, 26.68it/s]"
     ]
    },
    {
     "name": "stdout",
     "output_type": "stream",
     "text": [
      "Test Acc: 0.989\n"
     ]
    },
    {
     "name": "stderr",
     "output_type": "stream",
     "text": [
      "\n"
     ]
    }
   ],
   "source": [
    "def test(model, device, test_loader):\n",
    "    model.eval()\n",
    "    correct = 0\n",
    "    total = 0\n",
    "    with torch.no_grad():\n",
    "        for images, targets in tqdm(test_loader, 'test'):\n",
    "            images, targets = images.to(device), targets.to(device)\n",
    "            output = model(images)\n",
    "            pred = torch.argmax(output, dim=1)\n",
    "            correct += (pred == targets).sum().item()\n",
    "            total += targets.size(0)\n",
    "    print(f\"Test Acc: {correct / total:.3f}\")\n",
    "\n",
    "test(net, device, test_loader)"
   ]
  },
  {
   "cell_type": "markdown",
   "id": "9967eb7f-fcf3-4646-8cf8-d7368c460973",
   "metadata": {},
   "source": [
    "## 实例验证"
   ]
  },
  {
   "cell_type": "code",
   "execution_count": 12,
   "id": "8e37d098-5c14-4b65-85b9-768f7acc9f69",
   "metadata": {},
   "outputs": [
    {
     "data": {
      "image/png": "[encoded data removed]",
      "text/plain": [
       "<Figure size 640x480 with 6 Axes>"
      ]
     },
     "metadata": {},
     "output_type": "display_data"
    },
    {
     "name": "stdout",
     "output_type": "stream",
     "text": [
      "Predicted: \"[7 2 1 0 4 1]\", Actual: \"[7 2 1 0 4 1]\"\n"
     ]
    }
   ],
   "source": [
    "test_dataset = torchvision.datasets.MNIST(root='./data', train=False, transform=transform_test, download=True)\n",
    "test_loader = DataLoader(test_dataset, batch_size=6, shuffle=False)\n",
    "\n",
    "data = next(iter(test_loader))\n",
    "images = data[0].cpu().numpy()\n",
    "labels = data[1].cpu().numpy()\n",
    "\n",
    "plt.figure()\n",
    "for i in range(1, 7):\n",
    "    plt.subplot(2, 3, i)\n",
    "    plt.imshow(images[i-1][0], interpolation=\"None\", cmap=\"gray\")\n",
    "plt.show()\n",
    "\n",
    "net = net.to(device)\n",
    "input = data[0].to(device)\n",
    "with torch.no_grad():  # 不需要计算梯度，节省内存和计算资源  \n",
    "    outputs = net(input) \n",
    "\n",
    "predicted = np.argmax(outputs.cpu().numpy(), axis=1)\n",
    "\n",
    "# 输出预测分类与实际分类\n",
    "print(f'Predicted: \"{predicted}\", Actual: \"{labels}\"')"
   ]
  },
  {
   "cell_type": "code",
   "execution_count": null,
   "id": "4350b422-0fe7-4465-a4b0-8eec708e4728",
   "metadata": {},
   "outputs": [],
   "source": []
  }
 ],
 "metadata": {
  "kernelspec": {
   "display_name": "Python 3 (ipykernel)",
   "language": "python",
   "name": "python3"
  },
  "language_info": {
   "codemirror_mode": {
    "name": "ipython",
    "version": 3
   },
   "file_extension": ".py",
   "mimetype": "text/x-python",
   "name": "python",
   "nbconvert_exporter": "python",
   "pygments_lexer": "ipython3",
   "version": "3.8.19"
  }
 },
 "nbformat": 4,
 "nbformat_minor": 5
}
